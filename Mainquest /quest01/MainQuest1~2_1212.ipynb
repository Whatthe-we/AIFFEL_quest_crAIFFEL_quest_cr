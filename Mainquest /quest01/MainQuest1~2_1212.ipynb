{
  "nbformat": 4,
  "nbformat_minor": 0,
  "metadata": {
    "colab": {
      "provenance": [],
      "authorship_tag": "ABX9TyMWAIlsysEJ7C6Lc1C71apX",
      "include_colab_link": true
    },
    "kernelspec": {
      "name": "python3",
      "display_name": "Python 3"
    },
    "language_info": {
      "name": "python"
    }
  },
  "cells": [
    {
      "cell_type": "markdown",
      "metadata": {
        "id": "view-in-github",
        "colab_type": "text"
      },
      "source": [
        "<a href=\"https://colab.research.google.com/github/sophie55555/AIFFEL_quest_crAIFFEL_quest_cr/blob/main/Mainquest%20/quest01/MainQuest1~2_1212.ipynb\" target=\"_parent\"><img src=\"https://colab.research.google.com/assets/colab-badge.svg\" alt=\"Open In Colab\"/></a>"
      ]
    },
    {
      "cell_type": "markdown",
      "source": [
        "# **메인 퀘스트 1번: 은행계좌 만들기**\n",
        "\n",
        "Q1. Account 클래스 : 은행에 가서 계좌를 개설하면 은행이름, 예금주, 계좌번호, 잔액이 설정됩니다. Account 클래스를 생성한 후 생성자(hint: 매직매서드..!!)를 구현해보세요. 생성자에서는 예금주와 초기 잔액만 입력 받습니다. 은행이름은 SC은행으로 계좌번호는 3자리-2자리-6자리 형태로 랜덤하게 생성됩니다. (은행이름: SC은행, 계좌번호: 111-11-111111)\n",
        "\n",
        "Q2. 클래스 변수: 클래스 변수를 사용해서 Account 클래스로부터 생성된 계좌 객체의 개수를 저장하세요.\n",
        "\n",
        "Q3. 클래스 변수 출력 : Account 클래스로부터 생성된 계좌의 개수를 출력하는 get_account_num() 메서드를 추가하세요.\n",
        "\n",
        "Q4. 입금 메서드 : Account 클래스에 입금을 위한 deposit 메서드를 추가하세요. 입금은 최소 1원 이상만 가능합니다.\n",
        "\n",
        "Q5. 출금 메서드 : Account 클래스에 출금을 위한 withdraw 메서드를 추가하세요. 출금은 계좌의 잔고 이상으로 출금할 수는 없습니다.\n",
        "\n",
        "Q6. 정보 출력 메서드 : Account 인스턴스에 저장된 정보를 출력하는 display_info() 메서드를 추가하세요. 잔고는 세자리마다 쉼표를\n",
        "출력하세요.\n",
        "(은행이름: SC은행, 예금주: 파이썬, 계좌번호: 111-11-111111, 잔고: 10,000원)\n",
        "Q7. 이자 지급하기 : 입금 횟수가 5회가 될 때 잔고를 기준으로 1%의 이자가 잔고에 추가되도록 코드를 변경해보세요.\n",
        "\n",
        "Q8. 여러 객체 생성 : Account 클래스로부터 3개 이상 인스턴스를 생성하고 생성된 인스턴스를 리스트에 저장해보세요.\n",
        "\n",
        "Q9. 객체 순회 반복문을 통해 리스트에 있는 객체를 순회하면서 잔고가 100만원 이상인 고객의 정보만 출력하세요.\n",
        "\n",
        "Q10. 입금과 출금 내역이 기록되도록 코드를 업데이트 하세요.\n",
        "(입금 내역과 출금 내역을 출력하는 deposit_history와 withdraw_history 메서드를 추가하세요.)"
      ],
      "metadata": {
        "id": "l78oIowTd50O"
      }
    },
    {
      "cell_type": "code",
      "execution_count": 1,
      "metadata": {
        "colab": {
          "base_uri": "https://localhost:8080/",
          "height": 108
        },
        "id": "AfBQYEIrbkeW",
        "outputId": "c128abbf-f99b-445e-f16a-4c440726d685"
      },
      "outputs": [
        {
          "output_type": "error",
          "ename": "SyntaxError",
          "evalue": "expected ':' (<ipython-input-1-cd3e41875d70>, line 12)",
          "traceback": [
            "\u001b[0;36m  File \u001b[0;32m\"<ipython-input-1-cd3e41875d70>\"\u001b[0;36m, line \u001b[0;32m12\u001b[0m\n\u001b[0;31m    def deposit(self)\u001b[0m\n\u001b[0m                     ^\u001b[0m\n\u001b[0;31mSyntaxError\u001b[0m\u001b[0;31m:\u001b[0m expected ':'\n"
          ]
        }
      ],
      "source": [
        "\n",
        "\n",
        "#클래스 변수를 사용해서 Account 클래스로부터 생성된 계좌 객체의 개수를 저장하세요.\n",
        "\n",
        "\n",
        "import random\n",
        "\n",
        "class Account:\n",
        "    def __init__( self, bank_name, account_holder, account_number, balance ):\n",
        "        self.bank_name = SC 은행\n",
        "        self.acount_holder = acount_holder\n",
        "        self.account_number = account_number\n",
        "        self.balance = balance\n",
        "\n",
        "\n",
        "#Account 클래스로부터 생성된 계좌의 개수를 출력하는 get_account_num() 메서드\n",
        "    def get_account_num(self):\n",
        "        self.get_account_num = get_account_num\n",
        "        print(\"get_account_num\")\n",
        "#???갯수를 저장하라???\n",
        "\n",
        "#Account 클래스에 입금을 위한 deposit 메서드를 추가\n",
        "    def deposit(self):\n",
        "        print() #줄 바꿈\n",
        "        n = int(input(\"입금할 금액을 입력하세요 : \"))  #입급할 금액 입력\n",
        "        self.deposit = self.deposit[n] #입금 금액\n",
        "        print(f\"입금할 금액은 {self.deposit[n]}, 원 입니다.\")\n",
        "\n",
        "        # 입금은 최소 1원 이상만 가능\n",
        "        d = 0  # 기본값\n",
        "        if d < 1 :  # 입금은 최소 1원 이상\n",
        "            d = int(input(\"입금은 최소 1원 이상만 가능합니다. 다시 입금할 금액을 입력하세요.: \"))\n",
        "            else:\n",
        "                print(\"{self.deposit[n]}원이 입금되었습니다.\")\n",
        "\n",
        "#Account 클래스에 출금을 위한 withdraw 메서드를 추가\n",
        "    def withdraw(self):\n",
        "        print() #줄 바꿈\n",
        "        n = int(input(\"출금할 금액을 입력하세요 : \"))  #출금할 금액 입력\n",
        "        self.withdraw = self.withdraw[n] #출금 금액\n",
        "        print(f\"출금할 금액은 {self.withdraw[n]}, 원 입니다.\")\n",
        "\n",
        "        # 출금은 계좌의 잔고 이상으로 출금할 수는 없음\n",
        "        w = 0  # 기본값\n",
        "        if w > balance :  # 출금은 계좌의 잔고 이상으로 출금할 수는 없음\n",
        "            print(\"계좌의 잔고 이상으로 출금할 수 없습니다.\")\n",
        "            else:\n",
        "                print(f\"출금할 금액은 {self.withdraw[n]}, 원 입니다.\")\n",
        "\n",
        "\n",
        "#Account 인스턴스에 저장된 정보를 출력하는 display_info() 메서드를 추가\n",
        "#잔고는 세자리마다 쉼표를 출력하세요. (은행이름: SC은행, 예금주: 파이썬, 계좌번호: 111-11-111111, 잔고: 10,000원)\n",
        "    def display_info(self):\n",
        "      self.display_info = display_info\n",
        "      print( \"{self.bank_name}:SC은행, acount_holder:{self.acount_holder()},  account_number:{self.account_number()}, balance:{self.balance()}\" )\n",
        "\n",
        "\n",
        "\n",
        "#???Q7~10은 어떻게 해야할지 모르겠어요.이래도 되는건지 ㅜㅜ 수업 시간에 이해는 한 것 같은제 코드로 구현하는 것은 아직 너무 먼 것 같아요.\n",
        "#성실하게 수업을 따라가려고 하고 있지만, 긍정회로를 돌리고 있지만 앞으로 더 어려워지는데 제가 수업을 따라갈 수 있을지 걱정이 됩니다. ㅜㅜ\n",
        "\n"
      ]
    },
    {
      "cell_type": "code",
      "source": [
        "a = Account()\n",
        "a.get_account_num()\n",
        "a.deposit()\n",
        "a.withdraw()"
      ],
      "metadata": {
        "colab": {
          "base_uri": "https://localhost:8080/",
          "height": 144
        },
        "id": "mKjyTUqDggfO",
        "outputId": "435dc063-422d-4bf5-ca2f-122bd5ad03df"
      },
      "execution_count": 2,
      "outputs": [
        {
          "output_type": "error",
          "ename": "NameError",
          "evalue": "name 'Account' is not defined",
          "traceback": [
            "\u001b[0;31m---------------------------------------------------------------------------\u001b[0m",
            "\u001b[0;31mNameError\u001b[0m                                 Traceback (most recent call last)",
            "\u001b[0;32m<ipython-input-2-aeb8488af53f>\u001b[0m in \u001b[0;36m<cell line: 1>\u001b[0;34m()\u001b[0m\n\u001b[0;32m----> 1\u001b[0;31m \u001b[0ma\u001b[0m \u001b[0;34m=\u001b[0m \u001b[0mAccount\u001b[0m\u001b[0;34m(\u001b[0m\u001b[0;34m)\u001b[0m\u001b[0;34m\u001b[0m\u001b[0;34m\u001b[0m\u001b[0m\n\u001b[0m",
            "\u001b[0;31mNameError\u001b[0m: name 'Account' is not defined"
          ]
        }
      ]
    },
    {
      "cell_type": "markdown",
      "source": [
        "# **메인 퀘스트 2번: 간단한 자동사냥 RPG 만들기**\n",
        "\n",
        "간단한 자동사냥 RPG 게임을 만들어봅시다! 사용자의 이름을 입력 받아 플레이어를 생성하고, 몬스터들을 차례로\n",
        "자동사냥하는 게임을 만들어보고자 합니다.\n",
        "Q1. Character 클래스 만들기\n",
        "○ 이름, 레벨, 체력, 공격력, 방어력의 속성을 가짐\n",
        "○ 인스턴스의 현재 체력이 0 이상인지 bool 값을 반환하는 is_alive 메서드 만들기\n",
        "○ 공격을 받았을 때, (받은 데미지 - 본인의 방어력)만큼 현재 체력이 감소하는 take_damage 메서드 만들기\n",
        "■ 본인의 방어력이 데미지보다 크다면 체력 감소하지 않음 ○ 타겟에게 데미지를 입히는 attack_target 메서드 만들기\n",
        "■ 데미지는 1부터 공격력 사이의 랜덤한 정수\n",
        "\n",
        "Q2. Player 클래스와 Monster 클래스 만들기\n",
        "Character 클래스를 상속 받는 Player와 Monster 클래스를 만들기\n",
        "● Player 클래스\n",
        "○ Character를 상속 받기\n",
        "○ 레벨 1, 체력 100, 공격력 25, 방어력 5로 초기화하기\n",
        "○ Player 클래스는 경험치 속성을 추가로 가짐\n",
        "○ 인수로 받은 정수 만큼 경험치를 획득하는 gain_experience 메서드 만들기\n",
        "○ 현재 경험치가 50이상이면 레벨을 1, 공격력을 10, 방어력을 5씩 올리는 level_up 메서드 만들기\n",
        "● Monster 클래스\n",
        "○ Character를 상속 받기\n",
        "○ 몬스터의 레벨에 비례하는 체력, 공격력, 방어력 초기화하기\n",
        "■ 체력: 10~30 사이의 랜덤한 정수 * 레벨\n",
        "■ 공격력: 5~20 사이의 랜덤한 정수 * 레벨\n",
        "■ 방어력: 1~5 사이의 랜덤한 정수 * 레벨\n",
        "\n",
        "Q3. battle 함수 만들기\n",
        "● battle 함수\n",
        "○ Player 인스턴스와 Monster 인스턴스를 인수로 받아 둘 중 하나의 체력이 0 이하가 될 때까지 공격을\n",
        "주고받는함수\n",
        "○ 만약 Player 인스턴스가 살아남았다면\n",
        "■ Player 인스턴스에 (몬스터 레벨 * 20)만큼의 경험치를 추가\n",
        "■ player의 레벨업 메서드 호출\n",
        "■ ‘전투 승리!’를 출력\n",
        "○ Player 인스턴스가 살아남지 못했을 경우\n",
        "■ ‘전투 패배..’를 출력하기\n",
        "\n",
        "Q4. main 함수 만들기\n",
        "● 몬스터의 이름, 레벨이 매핑된 딕셔너리 정의하기\n",
        "○ monster_dict = {‘슬라임’: 1, ‘고블린’: 2, ‘오크’: 3}\n",
        "● 사용자로부터 이름을 입력받아 Player 인스턴스 생성하기\n",
        "● 몬스터 딕셔너리로부터 Monster 인스턴스 생성하기\n",
        "● 생성된 Monster 인스턴스와 Player 인스턴스가 battle 함수를 통해 전투\n",
        "○ player는 생성된 몬스터 3마리(슬라임, 고블린, 오크)와 모두 전투해야함\n",
        "○ 전투 도중에 Player가 사망하면 이후 전투를 진행하지 않고 ‘게임오버’ 출력하고 종료\n",
        "  "
      ],
      "metadata": {
        "id": "fnFvM44ehM7B"
      }
    },
    {
      "cell_type": "code",
      "source": [
        "\n",
        "#character 클래스\n",
        "class character:\n",
        "    def __init__(self):\n",
        "        self.character = [ name, level, strength, attack, defense ]\n",
        "        self.name = name\n",
        "        self.level = level\n",
        "        self.strength = strength\n",
        "        self.attack = attack\n",
        "        self.defense = defense\n",
        "\n",
        "#인스턴스의 현재 체력이 0 이상인지 bool 값을 반환하는 is_alive 메서드\n",
        "    def is_alive(self)\n",
        "        return self.health > 0\n",
        "\n",
        "\n",
        "#공격을 받았을 때, (받은 데미지 - 본인의 방어력)만큼 현재 체력이 감소하는 take_damage 메서드\n",
        "    def take_damage(self):\n",
        "        self.take_damage = damage\n",
        "\n",
        "        if defense > damage :  # 본인의 방어력이 데미지보다 크다면 체력 감소하지 않음\n",
        "           print(\"본인의 방어력이 받은 데미지보다 커서 체력이 감소하지 않았습니다.\")\n",
        "           else:\n",
        "              self.strength_sum = self.strength - (self.take_damage - self.defense) #총체력 = 현재 체력 - (받은 데미지 - 본인의 방어력)\n",
        "              print( f \"체력이 {self.damage - self.defense}만큼 감소하였습니다. \" )\n",
        "              print( f \"{self.name}님의 체력은 {self.strength - (self.take_damage - self.defense)} 입니다.\" )\n",
        "\n",
        "\n",
        "#타겟에게 데미지를 입히는 attack_target 메서드\n",
        "    def attack_target(self)\n",
        "    self.attack_target = attack\n",
        "\n",
        "        for i in range(5):\n",
        "            random_number = random.randint(1, 100)  # 1부터 100 사이의 난수 생성\n",
        "            print(random_number)\n",
        "\n",
        "\n",
        "#Player 클래스\n",
        "class Player(character):\n",
        "    def __init__(self, player)\n",
        "        super()__init__()\n",
        "        self.player = player\n",
        "        player = [ level 1, strength 100, attack 25, defense 5 ]\n",
        "\n",
        "\n",
        "#??? 인수로 받은 정수 만큼 경험치를 획득하는 gain_experience 메서드 만들기???\n",
        "#인수로 받은 정수 만큼 경험치를 획득하는 gain_experience 메서드\n",
        "    def gain_experience(self):\n",
        "        self.gain_experience = experience\n",
        "\n",
        "\n",
        "#???현재 경험치가 50이상이면 레벨을 1, 공격력을 10, 방어력을 5씩 올리는 level_up 메서드 만들기???\n",
        "#현재 경험치가 50이상이면 레벨을 1, 공격력을 10, 방어력을 5씩 올리는 level_up 메서드\n",
        "    def level_up(self):\n",
        "        self.level_up = level_up\n",
        "\n",
        "\n",
        "\n",
        "#Monster 클래스\n",
        "#???몬스터의 레벨에 비례하는 체력, 공격력, 방어력 초기화하기\n",
        "#■ 체력: 10~30 사이의 랜덤한 정수 * 레벨\n",
        "#■ 공격력: 5~20 사이의 랜덤한 정수 * 레벨\n",
        "#■ 방어력: 1~5 사이의 랜덤한 정수 * 레벨\n",
        "\n",
        "class Monster(character):\n",
        "    def __init__(self, monster):\n",
        "        super()__init__()\n",
        "        self.monster_dict = {‘슬라임’: 1, ‘고블린’: 2, ‘오크’: 3}\n",
        "\n",
        "\n",
        "#battle 함수 만들기\n",
        "def battle\n",
        "\n",
        "\n",
        "\n",
        "#main 함수 만들기\n",
        "def main\n"
      ],
      "metadata": {
        "id": "9jlq_voVgdBu"
      },
      "execution_count": null,
      "outputs": []
    },
    {
      "cell_type": "code",
      "source": [
        "a = character()\n"
      ],
      "metadata": {
        "id": "OhxIKmOigc3D"
      },
      "execution_count": null,
      "outputs": []
    },
    {
      "cell_type": "code",
      "source": [],
      "metadata": {
        "id": "2h_3AIsvgcwC"
      },
      "execution_count": null,
      "outputs": []
    },
    {
      "cell_type": "code",
      "source": [],
      "metadata": {
        "id": "LjfRKj4-gcna"
      },
      "execution_count": null,
      "outputs": []
    }
  ]
}